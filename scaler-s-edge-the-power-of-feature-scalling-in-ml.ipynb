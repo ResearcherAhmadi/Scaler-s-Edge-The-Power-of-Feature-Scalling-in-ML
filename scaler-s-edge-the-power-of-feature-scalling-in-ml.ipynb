{
 "cells": [
  {
   "cell_type": "markdown",
   "id": "8c259d29",
   "metadata": {
    "_cell_guid": "b1076dfc-b9ad-4769-8c92-a6c4dae69d19",
    "_uuid": "8f2839f25d086af736a60e9eeb907d3b93b6e0e5",
    "editable": false,
    "papermill": {
     "duration": 0.016451,
     "end_time": "2024-02-19T23:19:34.124424",
     "exception": false,
     "start_time": "2024-02-19T23:19:34.107973",
     "status": "completed"
    },
    "tags": []
   },
   "source": [
    "# Scaler's Edge: The Power of Feature Scalling in ML"
   ]
  },
  {
   "cell_type": "markdown",
   "id": "540ef81c",
   "metadata": {
    "editable": false,
    "papermill": {
     "duration": 0.01463,
     "end_time": "2024-02-19T23:19:34.154464",
     "exception": false,
     "start_time": "2024-02-19T23:19:34.139834",
     "status": "completed"
    },
    "tags": []
   },
   "source": [
    "# Introduction and Project Overview"
   ]
  },
  {
   "cell_type": "markdown",
   "id": "39e54919",
   "metadata": {
    "editable": false,
    "papermill": {
     "duration": 0.01478,
     "end_time": "2024-02-19T23:19:34.184265",
     "exception": false,
     "start_time": "2024-02-19T23:19:34.169485",
     "status": "completed"
    },
    "tags": []
   },
   "source": [
    "### Dataset Description\n",
    "\n",
    "Death by liver cirrhosis continues to increase, given the increase in alcohol consumption rates, chronic hepatitis infections, and obesity-related liver disease. Notwithstanding the high mortality of this disease, liver diseases do not affect all sub-populations equally. The early detection of pathology is a determinant of patient outcomes, yet female patients appear to be marginalized when it comes to early diagnosis of liver pathology. The dataset comprises 584 patient records collected from the NorthEast of Andhra Pradesh, India. The prediction task is to determine whether a patient suffers from liver disease based on the information about several biochemical markers, including albumin and other enzymes required for metabolism.\n",
    "\n",
    "### Additional Information about dataset\n",
    "\n",
    "This data set contains records of 416 patients diagnosed with liver disease and 167 patients without liver disease. This information is contained in the class label named 'Selector'(167 healthy vs 416 diseased patients). There are 10 variables per patient: age, gender, total Bilirubin, direct Bilirubin, total proteins, albumin, A/G ratio, SGPT, SGOT and Alkphos. Of the 583 patient records, 441 are male, and 142 are female.\n",
    "\n",
    "### The current dataset has been used to study\n",
    "\n",
    "differences in patients across US and Indian patients that suffer from liver diseases.\n",
    "gender-based disparities in predicting liver disease, as previous studies have found that biochemical markers do not have the same effectiveness for male and female patients.\n",
    "\n",
    "\n",
    "### Why feature scaling?\n",
    "\n",
    "Feature scaling is crucial in machine learning as it ensures fair contributions from all features and prevents domination by those with larger scales. It improves model convergence speed and stability, particularly for gradient-based optimization algorithms. Scaling enhances interpretability and comparability of coefficients or feature importance measures. This project demonstrates the significance of feature scaling in improving model performance, stability, and interpretability, covering essential steps like data preprocessing, model training, and feature importance analysis. Visualization aids in effective communication of findings and insights. Documenting the project provides a valuable resource for practitioners, emphasizing practical considerations and benefits of feature scaling. It reinforces the need to incorporate feature scaling for accurate and robust models, making it essential for ML workflow. Overall, this project contributes important insights to the field, highlighting the impact of feature scaling and providing guidance for future researchers and practitioners."
   ]
  },
  {
   "cell_type": "markdown",
   "id": "0465f78a",
   "metadata": {
    "editable": false,
    "papermill": {
     "duration": 0.015602,
     "end_time": "2024-02-19T23:19:34.214806",
     "exception": false,
     "start_time": "2024-02-19T23:19:34.199204",
     "status": "completed"
    },
    "tags": []
   },
   "source": [
    "# Step 1: Importing Libraries and Loading the Dataset"
   ]
  },
  {
   "cell_type": "code",
   "execution_count": 1,
   "id": "201539a2",
   "metadata": {
    "editable": false,
    "execution": {
     "iopub.execute_input": "2024-02-19T23:19:34.247818Z",
     "iopub.status.busy": "2024-02-19T23:19:34.247266Z",
     "iopub.status.idle": "2024-02-19T23:19:37.642221Z",
     "shell.execute_reply": "2024-02-19T23:19:37.640696Z"
    },
    "papermill": {
     "duration": 3.415564,
     "end_time": "2024-02-19T23:19:37.645689",
     "exception": false,
     "start_time": "2024-02-19T23:19:34.230125",
     "status": "completed"
    },
    "tags": []
   },
   "outputs": [],
   "source": [
    "import pandas as pd\n",
    "import numpy as np\n",
    "import seaborn as sns\n",
    "from sklearn.svm import SVC\n",
    "import matplotlib.pyplot as plt\n",
    "from sklearn.pipeline import Pipeline\n",
    "from sklearn.impute import SimpleImputer\n",
    "from sklearn.pipeline import make_pipeline\n",
    "from sklearn.naive_bayes import GaussianNB\n",
    "from sklearn.metrics import confusion_matrix\n",
    "from sklearn.compose import ColumnTransformer\n",
    "from sklearn.tree import DecisionTreeClassifier\n",
    "from sklearn.model_selection import GridSearchCV\n",
    "from sklearn.metrics import classification_report\n",
    "from sklearn.neighbors import KNeighborsClassifier\n",
    "from sklearn.linear_model import LogisticRegression\n",
    "from sklearn.metrics import roc_curve, roc_auc_score\n",
    "from sklearn.preprocessing import StandardScaler, OneHotEncoder\n",
    "from sklearn.model_selection import cross_val_score, train_test_split\n",
    "from sklearn.ensemble import RandomForestClassifier, GradientBoostingClassifier\n",
    "from sklearn.metrics import accuracy_score, precision_score, recall_score, f1_score"
   ]
  },
  {
   "cell_type": "code",
   "execution_count": 2,
   "id": "ddae11a9",
   "metadata": {
    "editable": false,
    "execution": {
     "iopub.execute_input": "2024-02-19T23:19:37.680811Z",
     "iopub.status.busy": "2024-02-19T23:19:37.679438Z",
     "iopub.status.idle": "2024-02-19T23:19:37.715579Z",
     "shell.execute_reply": "2024-02-19T23:19:37.713990Z"
    },
    "papermill": {
     "duration": 0.057075,
     "end_time": "2024-02-19T23:19:37.718696",
     "exception": false,
     "start_time": "2024-02-19T23:19:37.661621",
     "status": "completed"
    },
    "tags": []
   },
   "outputs": [],
   "source": [
    "df = pd.read_csv(\"/kaggle/input/liver-disorders/Indian Liver Patient Dataset (ILPD).csv\")"
   ]
  },
  {
   "cell_type": "markdown",
   "id": "726ebe2b",
   "metadata": {
    "editable": false,
    "papermill": {
     "duration": 0.015438,
     "end_time": "2024-02-19T23:19:37.750306",
     "exception": false,
     "start_time": "2024-02-19T23:19:37.734868",
     "status": "completed"
    },
    "tags": []
   },
   "source": [
    "# Step 2: Exploratory Data Analysis (EDA)"
   ]
  },
  {
   "cell_type": "code",
   "execution_count": 3,
   "id": "57182f8e",
   "metadata": {
    "editable": false,
    "execution": {
     "iopub.execute_input": "2024-02-19T23:19:37.786494Z",
     "iopub.status.busy": "2024-02-19T23:19:37.785503Z",
     "iopub.status.idle": "2024-02-19T23:19:37.821130Z",
     "shell.execute_reply": "2024-02-19T23:19:37.819800Z"
    },
    "papermill": {
     "duration": 0.057783,
     "end_time": "2024-02-19T23:19:37.824213",
     "exception": false,
     "start_time": "2024-02-19T23:19:37.766430",
     "status": "completed"
    },
    "tags": []
   },
   "outputs": [
    {
     "data": {
      "text/html": [
       "<div>\n",
       "<style scoped>\n",
       "    .dataframe tbody tr th:only-of-type {\n",
       "        vertical-align: middle;\n",
       "    }\n",
       "\n",
       "    .dataframe tbody tr th {\n",
       "        vertical-align: top;\n",
       "    }\n",
       "\n",
       "    .dataframe thead th {\n",
       "        text-align: right;\n",
       "    }\n",
       "</style>\n",
       "<table border=\"1\" class=\"dataframe\">\n",
       "  <thead>\n",
       "    <tr style=\"text-align: right;\">\n",
       "      <th></th>\n",
       "      <th>Age</th>\n",
       "      <th>Gender</th>\n",
       "      <th>TB</th>\n",
       "      <th>DB</th>\n",
       "      <th>Alkphos</th>\n",
       "      <th>Sgpt</th>\n",
       "      <th>Sgot</th>\n",
       "      <th>TP</th>\n",
       "      <th>ALB</th>\n",
       "      <th>A/G Ratio</th>\n",
       "      <th>Selector</th>\n",
       "    </tr>\n",
       "  </thead>\n",
       "  <tbody>\n",
       "    <tr>\n",
       "      <th>0</th>\n",
       "      <td>65</td>\n",
       "      <td>Female</td>\n",
       "      <td>0.7</td>\n",
       "      <td>0.1</td>\n",
       "      <td>187</td>\n",
       "      <td>16</td>\n",
       "      <td>18</td>\n",
       "      <td>6.8</td>\n",
       "      <td>3.3</td>\n",
       "      <td>0.90</td>\n",
       "      <td>1</td>\n",
       "    </tr>\n",
       "    <tr>\n",
       "      <th>1</th>\n",
       "      <td>62</td>\n",
       "      <td>Male</td>\n",
       "      <td>10.9</td>\n",
       "      <td>5.5</td>\n",
       "      <td>699</td>\n",
       "      <td>64</td>\n",
       "      <td>100</td>\n",
       "      <td>7.5</td>\n",
       "      <td>3.2</td>\n",
       "      <td>0.74</td>\n",
       "      <td>1</td>\n",
       "    </tr>\n",
       "    <tr>\n",
       "      <th>2</th>\n",
       "      <td>62</td>\n",
       "      <td>Male</td>\n",
       "      <td>7.3</td>\n",
       "      <td>4.1</td>\n",
       "      <td>490</td>\n",
       "      <td>60</td>\n",
       "      <td>68</td>\n",
       "      <td>7.0</td>\n",
       "      <td>3.3</td>\n",
       "      <td>0.89</td>\n",
       "      <td>1</td>\n",
       "    </tr>\n",
       "    <tr>\n",
       "      <th>3</th>\n",
       "      <td>58</td>\n",
       "      <td>Male</td>\n",
       "      <td>1.0</td>\n",
       "      <td>0.4</td>\n",
       "      <td>182</td>\n",
       "      <td>14</td>\n",
       "      <td>20</td>\n",
       "      <td>6.8</td>\n",
       "      <td>3.4</td>\n",
       "      <td>1.00</td>\n",
       "      <td>1</td>\n",
       "    </tr>\n",
       "    <tr>\n",
       "      <th>4</th>\n",
       "      <td>72</td>\n",
       "      <td>Male</td>\n",
       "      <td>3.9</td>\n",
       "      <td>2.0</td>\n",
       "      <td>195</td>\n",
       "      <td>27</td>\n",
       "      <td>59</td>\n",
       "      <td>7.3</td>\n",
       "      <td>2.4</td>\n",
       "      <td>0.40</td>\n",
       "      <td>1</td>\n",
       "    </tr>\n",
       "  </tbody>\n",
       "</table>\n",
       "</div>"
      ],
      "text/plain": [
       "   Age  Gender    TB   DB  Alkphos  Sgpt  Sgot   TP  ALB  A/G Ratio  Selector\n",
       "0   65  Female   0.7  0.1      187    16    18  6.8  3.3       0.90         1\n",
       "1   62    Male  10.9  5.5      699    64   100  7.5  3.2       0.74         1\n",
       "2   62    Male   7.3  4.1      490    60    68  7.0  3.3       0.89         1\n",
       "3   58    Male   1.0  0.4      182    14    20  6.8  3.4       1.00         1\n",
       "4   72    Male   3.9  2.0      195    27    59  7.3  2.4       0.40         1"
      ]
     },
     "execution_count": 3,
     "metadata": {},
     "output_type": "execute_result"
    }
   ],
   "source": [
    "df.head()"
   ]
  },
  {
   "cell_type": "code",
   "execution_count": 4,
   "id": "4678260e",
   "metadata": {
    "editable": false,
    "execution": {
     "iopub.execute_input": "2024-02-19T23:19:37.860222Z",
     "iopub.status.busy": "2024-02-19T23:19:37.859670Z",
     "iopub.status.idle": "2024-02-19T23:19:37.911394Z",
     "shell.execute_reply": "2024-02-19T23:19:37.909887Z"
    },
    "papermill": {
     "duration": 0.073391,
     "end_time": "2024-02-19T23:19:37.914400",
     "exception": false,
     "start_time": "2024-02-19T23:19:37.841009",
     "status": "completed"
    },
    "tags": []
   },
   "outputs": [
    {
     "data": {
      "text/html": [
       "<div>\n",
       "<style scoped>\n",
       "    .dataframe tbody tr th:only-of-type {\n",
       "        vertical-align: middle;\n",
       "    }\n",
       "\n",
       "    .dataframe tbody tr th {\n",
       "        vertical-align: top;\n",
       "    }\n",
       "\n",
       "    .dataframe thead th {\n",
       "        text-align: right;\n",
       "    }\n",
       "</style>\n",
       "<table border=\"1\" class=\"dataframe\">\n",
       "  <thead>\n",
       "    <tr style=\"text-align: right;\">\n",
       "      <th></th>\n",
       "      <th>Age</th>\n",
       "      <th>TB</th>\n",
       "      <th>DB</th>\n",
       "      <th>Alkphos</th>\n",
       "      <th>Sgpt</th>\n",
       "      <th>Sgot</th>\n",
       "      <th>TP</th>\n",
       "      <th>ALB</th>\n",
       "      <th>A/G Ratio</th>\n",
       "      <th>Selector</th>\n",
       "    </tr>\n",
       "  </thead>\n",
       "  <tbody>\n",
       "    <tr>\n",
       "      <th>count</th>\n",
       "      <td>583.000000</td>\n",
       "      <td>583.000000</td>\n",
       "      <td>583.000000</td>\n",
       "      <td>583.000000</td>\n",
       "      <td>583.000000</td>\n",
       "      <td>583.000000</td>\n",
       "      <td>583.000000</td>\n",
       "      <td>583.000000</td>\n",
       "      <td>579.000000</td>\n",
       "      <td>583.000000</td>\n",
       "    </tr>\n",
       "    <tr>\n",
       "      <th>mean</th>\n",
       "      <td>44.746141</td>\n",
       "      <td>3.298799</td>\n",
       "      <td>1.486106</td>\n",
       "      <td>290.576329</td>\n",
       "      <td>80.713551</td>\n",
       "      <td>109.910806</td>\n",
       "      <td>6.483190</td>\n",
       "      <td>3.141852</td>\n",
       "      <td>0.947064</td>\n",
       "      <td>1.286449</td>\n",
       "    </tr>\n",
       "    <tr>\n",
       "      <th>std</th>\n",
       "      <td>16.189833</td>\n",
       "      <td>6.209522</td>\n",
       "      <td>2.808498</td>\n",
       "      <td>242.937989</td>\n",
       "      <td>182.620356</td>\n",
       "      <td>288.918529</td>\n",
       "      <td>1.085451</td>\n",
       "      <td>0.795519</td>\n",
       "      <td>0.319592</td>\n",
       "      <td>0.452490</td>\n",
       "    </tr>\n",
       "    <tr>\n",
       "      <th>min</th>\n",
       "      <td>4.000000</td>\n",
       "      <td>0.400000</td>\n",
       "      <td>0.100000</td>\n",
       "      <td>63.000000</td>\n",
       "      <td>10.000000</td>\n",
       "      <td>10.000000</td>\n",
       "      <td>2.700000</td>\n",
       "      <td>0.900000</td>\n",
       "      <td>0.300000</td>\n",
       "      <td>1.000000</td>\n",
       "    </tr>\n",
       "    <tr>\n",
       "      <th>25%</th>\n",
       "      <td>33.000000</td>\n",
       "      <td>0.800000</td>\n",
       "      <td>0.200000</td>\n",
       "      <td>175.500000</td>\n",
       "      <td>23.000000</td>\n",
       "      <td>25.000000</td>\n",
       "      <td>5.800000</td>\n",
       "      <td>2.600000</td>\n",
       "      <td>0.700000</td>\n",
       "      <td>1.000000</td>\n",
       "    </tr>\n",
       "    <tr>\n",
       "      <th>50%</th>\n",
       "      <td>45.000000</td>\n",
       "      <td>1.000000</td>\n",
       "      <td>0.300000</td>\n",
       "      <td>208.000000</td>\n",
       "      <td>35.000000</td>\n",
       "      <td>42.000000</td>\n",
       "      <td>6.600000</td>\n",
       "      <td>3.100000</td>\n",
       "      <td>0.930000</td>\n",
       "      <td>1.000000</td>\n",
       "    </tr>\n",
       "    <tr>\n",
       "      <th>75%</th>\n",
       "      <td>58.000000</td>\n",
       "      <td>2.600000</td>\n",
       "      <td>1.300000</td>\n",
       "      <td>298.000000</td>\n",
       "      <td>60.500000</td>\n",
       "      <td>87.000000</td>\n",
       "      <td>7.200000</td>\n",
       "      <td>3.800000</td>\n",
       "      <td>1.100000</td>\n",
       "      <td>2.000000</td>\n",
       "    </tr>\n",
       "    <tr>\n",
       "      <th>max</th>\n",
       "      <td>90.000000</td>\n",
       "      <td>75.000000</td>\n",
       "      <td>19.700000</td>\n",
       "      <td>2110.000000</td>\n",
       "      <td>2000.000000</td>\n",
       "      <td>4929.000000</td>\n",
       "      <td>9.600000</td>\n",
       "      <td>5.500000</td>\n",
       "      <td>2.800000</td>\n",
       "      <td>2.000000</td>\n",
       "    </tr>\n",
       "  </tbody>\n",
       "</table>\n",
       "</div>"
      ],
      "text/plain": [
       "              Age          TB          DB      Alkphos         Sgpt  \\\n",
       "count  583.000000  583.000000  583.000000   583.000000   583.000000   \n",
       "mean    44.746141    3.298799    1.486106   290.576329    80.713551   \n",
       "std     16.189833    6.209522    2.808498   242.937989   182.620356   \n",
       "min      4.000000    0.400000    0.100000    63.000000    10.000000   \n",
       "25%     33.000000    0.800000    0.200000   175.500000    23.000000   \n",
       "50%     45.000000    1.000000    0.300000   208.000000    35.000000   \n",
       "75%     58.000000    2.600000    1.300000   298.000000    60.500000   \n",
       "max     90.000000   75.000000   19.700000  2110.000000  2000.000000   \n",
       "\n",
       "              Sgot          TP         ALB   A/G Ratio    Selector  \n",
       "count   583.000000  583.000000  583.000000  579.000000  583.000000  \n",
       "mean    109.910806    6.483190    3.141852    0.947064    1.286449  \n",
       "std     288.918529    1.085451    0.795519    0.319592    0.452490  \n",
       "min      10.000000    2.700000    0.900000    0.300000    1.000000  \n",
       "25%      25.000000    5.800000    2.600000    0.700000    1.000000  \n",
       "50%      42.000000    6.600000    3.100000    0.930000    1.000000  \n",
       "75%      87.000000    7.200000    3.800000    1.100000    2.000000  \n",
       "max    4929.000000    9.600000    5.500000    2.800000    2.000000  "
      ]
     },
     "execution_count": 4,
     "metadata": {},
     "output_type": "execute_result"
    }
   ],
   "source": [
    "# Analyze the distributions and summary statistics of the columns\n",
    "df.describe()"
   ]
  },
  {
   "cell_type": "code",
   "execution_count": 5,
   "id": "56b1db77",
   "metadata": {
    "editable": false,
    "execution": {
     "iopub.execute_input": "2024-02-19T23:19:37.953349Z",
     "iopub.status.busy": "2024-02-19T23:19:37.952692Z",
     "iopub.status.idle": "2024-02-19T23:19:37.963585Z",
     "shell.execute_reply": "2024-02-19T23:19:37.962055Z"
    },
    "papermill": {
     "duration": 0.034295,
     "end_time": "2024-02-19T23:19:37.966468",
     "exception": false,
     "start_time": "2024-02-19T23:19:37.932173",
     "status": "completed"
    },
    "tags": []
   },
   "outputs": [
    {
     "data": {
      "text/plain": [
       "Age            int64\n",
       "Gender        object\n",
       "TB           float64\n",
       "DB           float64\n",
       "Alkphos        int64\n",
       "Sgpt           int64\n",
       "Sgot           int64\n",
       "TP           float64\n",
       "ALB          float64\n",
       "A/G Ratio    float64\n",
       "Selector       int64\n",
       "dtype: object"
      ]
     },
     "execution_count": 5,
     "metadata": {},
     "output_type": "execute_result"
    }
   ],
   "source": [
    "# Check the data types of the columns\n",
    "df.dtypes"
   ]
  },
  {
   "cell_type": "code",
   "execution_count": 6,
   "id": "8792862a",
   "metadata": {
    "editable": false,
    "execution": {
     "iopub.execute_input": "2024-02-19T23:19:38.005718Z",
     "iopub.status.busy": "2024-02-19T23:19:38.005198Z",
     "iopub.status.idle": "2024-02-19T23:19:38.017140Z",
     "shell.execute_reply": "2024-02-19T23:19:38.015589Z"
    },
    "papermill": {
     "duration": 0.035921,
     "end_time": "2024-02-19T23:19:38.020077",
     "exception": false,
     "start_time": "2024-02-19T23:19:37.984156",
     "status": "completed"
    },
    "tags": []
   },
   "outputs": [
    {
     "data": {
      "text/plain": [
       "Age          0\n",
       "Gender       0\n",
       "TB           0\n",
       "DB           0\n",
       "Alkphos      0\n",
       "Sgpt         0\n",
       "Sgot         0\n",
       "TP           0\n",
       "ALB          0\n",
       "A/G Ratio    4\n",
       "Selector     0\n",
       "dtype: int64"
      ]
     },
     "execution_count": 6,
     "metadata": {},
     "output_type": "execute_result"
    }
   ],
   "source": [
    "# Identify missing values\n",
    "df.isnull().sum()"
   ]
  },
  {
   "cell_type": "markdown",
   "id": "472561ab",
   "metadata": {
    "editable": false,
    "papermill": {
     "duration": 0.111597,
     "end_time": "2024-02-19T23:19:38.148749",
     "exception": false,
     "start_time": "2024-02-19T23:19:38.037152",
     "status": "completed"
    },
    "tags": []
   },
   "source": [
    "# Step 3: Data Preprocessing"
   ]
  },
  {
   "cell_type": "code",
   "execution_count": 7,
   "id": "35e75773",
   "metadata": {
    "editable": false,
    "execution": {
     "iopub.execute_input": "2024-02-19T23:19:38.187802Z",
     "iopub.status.busy": "2024-02-19T23:19:38.186472Z",
     "iopub.status.idle": "2024-02-19T23:19:38.202388Z",
     "shell.execute_reply": "2024-02-19T23:19:38.201135Z"
    },
    "papermill": {
     "duration": 0.038292,
     "end_time": "2024-02-19T23:19:38.205535",
     "exception": false,
     "start_time": "2024-02-19T23:19:38.167243",
     "status": "completed"
    },
    "tags": []
   },
   "outputs": [],
   "source": [
    "# Separate the features (X) and the target variable (y)\n",
    "X = df.drop('Selector', axis=1)\n",
    "y = df['Selector']"
   ]
  },
  {
   "cell_type": "code",
   "execution_count": 8,
   "id": "69606b6b",
   "metadata": {
    "editable": false,
    "execution": {
     "iopub.execute_input": "2024-02-19T23:19:38.243545Z",
     "iopub.status.busy": "2024-02-19T23:19:38.243049Z",
     "iopub.status.idle": "2024-02-19T23:19:38.252157Z",
     "shell.execute_reply": "2024-02-19T23:19:38.250878Z"
    },
    "papermill": {
     "duration": 0.031107,
     "end_time": "2024-02-19T23:19:38.255231",
     "exception": false,
     "start_time": "2024-02-19T23:19:38.224124",
     "status": "completed"
    },
    "tags": []
   },
   "outputs": [],
   "source": [
    "# Split the data into training and testing sets\n",
    "X_train, X_test, y_train, y_test = train_test_split(X, y, test_size=0.2, random_state=42)"
   ]
  },
  {
   "cell_type": "markdown",
   "id": "d38da9f2",
   "metadata": {
    "editable": false,
    "papermill": {
     "duration": 0.015917,
     "end_time": "2024-02-19T23:19:38.287628",
     "exception": false,
     "start_time": "2024-02-19T23:19:38.271711",
     "status": "completed"
    },
    "tags": []
   },
   "source": [
    "# Step 4: Feature Scaling"
   ]
  },
  {
   "cell_type": "code",
   "execution_count": 9,
   "id": "b9dbe3f5",
   "metadata": {
    "editable": false,
    "execution": {
     "iopub.execute_input": "2024-02-19T23:19:38.323383Z",
     "iopub.status.busy": "2024-02-19T23:19:38.322755Z",
     "iopub.status.idle": "2024-02-19T23:19:38.327868Z",
     "shell.execute_reply": "2024-02-19T23:19:38.326712Z"
    },
    "papermill": {
     "duration": 0.026,
     "end_time": "2024-02-19T23:19:38.330542",
     "exception": false,
     "start_time": "2024-02-19T23:19:38.304542",
     "status": "completed"
    },
    "tags": []
   },
   "outputs": [],
   "source": [
    "# Initialize the scaler\n",
    "scaler = StandardScaler()"
   ]
  },
  {
   "cell_type": "code",
   "execution_count": 10,
   "id": "20ee67e6",
   "metadata": {
    "editable": false,
    "execution": {
     "iopub.execute_input": "2024-02-19T23:19:38.368142Z",
     "iopub.status.busy": "2024-02-19T23:19:38.367635Z",
     "iopub.status.idle": "2024-02-19T23:19:38.384290Z",
     "shell.execute_reply": "2024-02-19T23:19:38.382914Z"
    },
    "papermill": {
     "duration": 0.038874,
     "end_time": "2024-02-19T23:19:38.387381",
     "exception": false,
     "start_time": "2024-02-19T23:19:38.348507",
     "status": "completed"
    },
    "tags": []
   },
   "outputs": [],
   "source": [
    "# Encode categorical variables\n",
    "X_train_encoded = pd.get_dummies(X_train, columns=['Gender'])\n",
    "X_test_encoded = pd.get_dummies(X_test, columns=['Gender'])"
   ]
  },
  {
   "cell_type": "code",
   "execution_count": 11,
   "id": "7e2f8310",
   "metadata": {
    "editable": false,
    "execution": {
     "iopub.execute_input": "2024-02-19T23:19:38.423265Z",
     "iopub.status.busy": "2024-02-19T23:19:38.422769Z",
     "iopub.status.idle": "2024-02-19T23:19:38.438582Z",
     "shell.execute_reply": "2024-02-19T23:19:38.437356Z"
    },
    "papermill": {
     "duration": 0.037388,
     "end_time": "2024-02-19T23:19:38.441561",
     "exception": false,
     "start_time": "2024-02-19T23:19:38.404173",
     "status": "completed"
    },
    "tags": []
   },
   "outputs": [],
   "source": [
    "# Fit the scaler on the training data and transform the training and testing sets\n",
    "X_train_scaled = scaler.fit_transform(X_train_encoded)\n",
    "X_test_scaled = scaler.transform(X_test_encoded)"
   ]
  },
  {
   "cell_type": "markdown",
   "id": "4590d256",
   "metadata": {
    "editable": false,
    "papermill": {
     "duration": 0.015985,
     "end_time": "2024-02-19T23:19:38.474338",
     "exception": false,
     "start_time": "2024-02-19T23:19:38.458353",
     "status": "completed"
    },
    "tags": []
   },
   "source": [
    "# Step 5: Model training and Evaluation"
   ]
  },
  {
   "cell_type": "code",
   "execution_count": 12,
   "id": "655459d2",
   "metadata": {
    "editable": false,
    "execution": {
     "iopub.execute_input": "2024-02-19T23:19:38.511590Z",
     "iopub.status.busy": "2024-02-19T23:19:38.511053Z",
     "iopub.status.idle": "2024-02-19T23:19:38.517393Z",
     "shell.execute_reply": "2024-02-19T23:19:38.515821Z"
    },
    "papermill": {
     "duration": 0.02808,
     "end_time": "2024-02-19T23:19:38.519776",
     "exception": false,
     "start_time": "2024-02-19T23:19:38.491696",
     "status": "completed"
    },
    "tags": []
   },
   "outputs": [],
   "source": [
    "# Initialize the Logistic Regression model\n",
    "model = LogisticRegression()"
   ]
  },
  {
   "cell_type": "code",
   "execution_count": 13,
   "id": "d268746e",
   "metadata": {
    "editable": false,
    "execution": {
     "iopub.execute_input": "2024-02-19T23:19:38.554826Z",
     "iopub.status.busy": "2024-02-19T23:19:38.554306Z",
     "iopub.status.idle": "2024-02-19T23:19:38.561850Z",
     "shell.execute_reply": "2024-02-19T23:19:38.560892Z"
    },
    "papermill": {
     "duration": 0.028227,
     "end_time": "2024-02-19T23:19:38.564530",
     "exception": false,
     "start_time": "2024-02-19T23:19:38.536303",
     "status": "completed"
    },
    "tags": []
   },
   "outputs": [
    {
     "data": {
      "text/plain": [
       "Index(['Age', 'Gender', 'TB', 'DB', 'Alkphos', 'Sgpt', 'Sgot', 'TP', 'ALB',\n",
       "       'A/G Ratio', 'Selector'],\n",
       "      dtype='object')"
      ]
     },
     "execution_count": 13,
     "metadata": {},
     "output_type": "execute_result"
    }
   ],
   "source": [
    "df.columns"
   ]
  },
  {
   "cell_type": "code",
   "execution_count": 14,
   "id": "6c0da3bf",
   "metadata": {
    "editable": false,
    "execution": {
     "iopub.execute_input": "2024-02-19T23:19:38.601132Z",
     "iopub.status.busy": "2024-02-19T23:19:38.599948Z",
     "iopub.status.idle": "2024-02-19T23:19:38.734418Z",
     "shell.execute_reply": "2024-02-19T23:19:38.733098Z"
    },
    "papermill": {
     "duration": 0.156263,
     "end_time": "2024-02-19T23:19:38.737528",
     "exception": false,
     "start_time": "2024-02-19T23:19:38.581265",
     "status": "completed"
    },
    "tags": []
   },
   "outputs": [
    {
     "data": {
      "text/html": [
       "<style>#sk-container-id-1 {color: black;background-color: white;}#sk-container-id-1 pre{padding: 0;}#sk-container-id-1 div.sk-toggleable {background-color: white;}#sk-container-id-1 label.sk-toggleable__label {cursor: pointer;display: block;width: 100%;margin-bottom: 0;padding: 0.3em;box-sizing: border-box;text-align: center;}#sk-container-id-1 label.sk-toggleable__label-arrow:before {content: \"▸\";float: left;margin-right: 0.25em;color: #696969;}#sk-container-id-1 label.sk-toggleable__label-arrow:hover:before {color: black;}#sk-container-id-1 div.sk-estimator:hover label.sk-toggleable__label-arrow:before {color: black;}#sk-container-id-1 div.sk-toggleable__content {max-height: 0;max-width: 0;overflow: hidden;text-align: left;background-color: #f0f8ff;}#sk-container-id-1 div.sk-toggleable__content pre {margin: 0.2em;color: black;border-radius: 0.25em;background-color: #f0f8ff;}#sk-container-id-1 input.sk-toggleable__control:checked~div.sk-toggleable__content {max-height: 200px;max-width: 100%;overflow: auto;}#sk-container-id-1 input.sk-toggleable__control:checked~label.sk-toggleable__label-arrow:before {content: \"▾\";}#sk-container-id-1 div.sk-estimator input.sk-toggleable__control:checked~label.sk-toggleable__label {background-color: #d4ebff;}#sk-container-id-1 div.sk-label input.sk-toggleable__control:checked~label.sk-toggleable__label {background-color: #d4ebff;}#sk-container-id-1 input.sk-hidden--visually {border: 0;clip: rect(1px 1px 1px 1px);clip: rect(1px, 1px, 1px, 1px);height: 1px;margin: -1px;overflow: hidden;padding: 0;position: absolute;width: 1px;}#sk-container-id-1 div.sk-estimator {font-family: monospace;background-color: #f0f8ff;border: 1px dotted black;border-radius: 0.25em;box-sizing: border-box;margin-bottom: 0.5em;}#sk-container-id-1 div.sk-estimator:hover {background-color: #d4ebff;}#sk-container-id-1 div.sk-parallel-item::after {content: \"\";width: 100%;border-bottom: 1px solid gray;flex-grow: 1;}#sk-container-id-1 div.sk-label:hover label.sk-toggleable__label {background-color: #d4ebff;}#sk-container-id-1 div.sk-serial::before {content: \"\";position: absolute;border-left: 1px solid gray;box-sizing: border-box;top: 0;bottom: 0;left: 50%;z-index: 0;}#sk-container-id-1 div.sk-serial {display: flex;flex-direction: column;align-items: center;background-color: white;padding-right: 0.2em;padding-left: 0.2em;position: relative;}#sk-container-id-1 div.sk-item {position: relative;z-index: 1;}#sk-container-id-1 div.sk-parallel {display: flex;align-items: stretch;justify-content: center;background-color: white;position: relative;}#sk-container-id-1 div.sk-item::before, #sk-container-id-1 div.sk-parallel-item::before {content: \"\";position: absolute;border-left: 1px solid gray;box-sizing: border-box;top: 0;bottom: 0;left: 50%;z-index: -1;}#sk-container-id-1 div.sk-parallel-item {display: flex;flex-direction: column;z-index: 1;position: relative;background-color: white;}#sk-container-id-1 div.sk-parallel-item:first-child::after {align-self: flex-end;width: 50%;}#sk-container-id-1 div.sk-parallel-item:last-child::after {align-self: flex-start;width: 50%;}#sk-container-id-1 div.sk-parallel-item:only-child::after {width: 0;}#sk-container-id-1 div.sk-dashed-wrapped {border: 1px dashed gray;margin: 0 0.4em 0.5em 0.4em;box-sizing: border-box;padding-bottom: 0.4em;background-color: white;}#sk-container-id-1 div.sk-label label {font-family: monospace;font-weight: bold;display: inline-block;line-height: 1.2em;}#sk-container-id-1 div.sk-label-container {text-align: center;}#sk-container-id-1 div.sk-container {/* jupyter's `normalize.less` sets `[hidden] { display: none; }` but bootstrap.min.css set `[hidden] { display: none !important; }` so we also need the `!important` here to be able to override the default hidden behavior on the sphinx rendered scikit-learn.org. See: https://github.com/scikit-learn/scikit-learn/issues/21755 */display: inline-block !important;position: relative;}#sk-container-id-1 div.sk-text-repr-fallback {display: none;}</style><div id=\"sk-container-id-1\" class=\"sk-top-container\"><div class=\"sk-text-repr-fallback\"><pre>Pipeline(steps=[(&#x27;columntransformer&#x27;,\n",
       "                 ColumnTransformer(transformers=[(&#x27;num&#x27;,\n",
       "                                                  Pipeline(steps=[(&#x27;simpleimputer&#x27;,\n",
       "                                                                   SimpleImputer()),\n",
       "                                                                  (&#x27;standardscaler&#x27;,\n",
       "                                                                   StandardScaler())]),\n",
       "                                                  [&#x27;Age&#x27;, &#x27;TB&#x27;, &#x27;DB&#x27;, &#x27;Alkphos&#x27;,\n",
       "                                                   &#x27;Sgpt&#x27;, &#x27;Sgot&#x27;, &#x27;TP&#x27;, &#x27;ALB&#x27;,\n",
       "                                                   &#x27;A/G Ratio&#x27;]),\n",
       "                                                 (&#x27;cat&#x27;,\n",
       "                                                  Pipeline(steps=[(&#x27;simpleimputer&#x27;,\n",
       "                                                                   SimpleImputer(strategy=&#x27;most_frequent&#x27;)),\n",
       "                                                                  (&#x27;onehotencoder&#x27;,\n",
       "                                                                   OneHotEncoder())]),\n",
       "                                                  [&#x27;Gender&#x27;])])),\n",
       "                (&#x27;logisticregression&#x27;, LogisticRegression())])</pre><b>In a Jupyter environment, please rerun this cell to show the HTML representation or trust the notebook. <br />On GitHub, the HTML representation is unable to render, please try loading this page with nbviewer.org.</b></div><div class=\"sk-container\" hidden><div class=\"sk-item sk-dashed-wrapped\"><div class=\"sk-label-container\"><div class=\"sk-label sk-toggleable\"><input class=\"sk-toggleable__control sk-hidden--visually\" id=\"sk-estimator-id-1\" type=\"checkbox\" ><label for=\"sk-estimator-id-1\" class=\"sk-toggleable__label sk-toggleable__label-arrow\">Pipeline</label><div class=\"sk-toggleable__content\"><pre>Pipeline(steps=[(&#x27;columntransformer&#x27;,\n",
       "                 ColumnTransformer(transformers=[(&#x27;num&#x27;,\n",
       "                                                  Pipeline(steps=[(&#x27;simpleimputer&#x27;,\n",
       "                                                                   SimpleImputer()),\n",
       "                                                                  (&#x27;standardscaler&#x27;,\n",
       "                                                                   StandardScaler())]),\n",
       "                                                  [&#x27;Age&#x27;, &#x27;TB&#x27;, &#x27;DB&#x27;, &#x27;Alkphos&#x27;,\n",
       "                                                   &#x27;Sgpt&#x27;, &#x27;Sgot&#x27;, &#x27;TP&#x27;, &#x27;ALB&#x27;,\n",
       "                                                   &#x27;A/G Ratio&#x27;]),\n",
       "                                                 (&#x27;cat&#x27;,\n",
       "                                                  Pipeline(steps=[(&#x27;simpleimputer&#x27;,\n",
       "                                                                   SimpleImputer(strategy=&#x27;most_frequent&#x27;)),\n",
       "                                                                  (&#x27;onehotencoder&#x27;,\n",
       "                                                                   OneHotEncoder())]),\n",
       "                                                  [&#x27;Gender&#x27;])])),\n",
       "                (&#x27;logisticregression&#x27;, LogisticRegression())])</pre></div></div></div><div class=\"sk-serial\"><div class=\"sk-item sk-dashed-wrapped\"><div class=\"sk-label-container\"><div class=\"sk-label sk-toggleable\"><input class=\"sk-toggleable__control sk-hidden--visually\" id=\"sk-estimator-id-2\" type=\"checkbox\" ><label for=\"sk-estimator-id-2\" class=\"sk-toggleable__label sk-toggleable__label-arrow\">columntransformer: ColumnTransformer</label><div class=\"sk-toggleable__content\"><pre>ColumnTransformer(transformers=[(&#x27;num&#x27;,\n",
       "                                 Pipeline(steps=[(&#x27;simpleimputer&#x27;,\n",
       "                                                  SimpleImputer()),\n",
       "                                                 (&#x27;standardscaler&#x27;,\n",
       "                                                  StandardScaler())]),\n",
       "                                 [&#x27;Age&#x27;, &#x27;TB&#x27;, &#x27;DB&#x27;, &#x27;Alkphos&#x27;, &#x27;Sgpt&#x27;, &#x27;Sgot&#x27;,\n",
       "                                  &#x27;TP&#x27;, &#x27;ALB&#x27;, &#x27;A/G Ratio&#x27;]),\n",
       "                                (&#x27;cat&#x27;,\n",
       "                                 Pipeline(steps=[(&#x27;simpleimputer&#x27;,\n",
       "                                                  SimpleImputer(strategy=&#x27;most_frequent&#x27;)),\n",
       "                                                 (&#x27;onehotencoder&#x27;,\n",
       "                                                  OneHotEncoder())]),\n",
       "                                 [&#x27;Gender&#x27;])])</pre></div></div></div><div class=\"sk-parallel\"><div class=\"sk-parallel-item\"><div class=\"sk-item\"><div class=\"sk-label-container\"><div class=\"sk-label sk-toggleable\"><input class=\"sk-toggleable__control sk-hidden--visually\" id=\"sk-estimator-id-3\" type=\"checkbox\" ><label for=\"sk-estimator-id-3\" class=\"sk-toggleable__label sk-toggleable__label-arrow\">num</label><div class=\"sk-toggleable__content\"><pre>[&#x27;Age&#x27;, &#x27;TB&#x27;, &#x27;DB&#x27;, &#x27;Alkphos&#x27;, &#x27;Sgpt&#x27;, &#x27;Sgot&#x27;, &#x27;TP&#x27;, &#x27;ALB&#x27;, &#x27;A/G Ratio&#x27;]</pre></div></div></div><div class=\"sk-serial\"><div class=\"sk-item\"><div class=\"sk-serial\"><div class=\"sk-item\"><div class=\"sk-estimator sk-toggleable\"><input class=\"sk-toggleable__control sk-hidden--visually\" id=\"sk-estimator-id-4\" type=\"checkbox\" ><label for=\"sk-estimator-id-4\" class=\"sk-toggleable__label sk-toggleable__label-arrow\">SimpleImputer</label><div class=\"sk-toggleable__content\"><pre>SimpleImputer()</pre></div></div></div><div class=\"sk-item\"><div class=\"sk-estimator sk-toggleable\"><input class=\"sk-toggleable__control sk-hidden--visually\" id=\"sk-estimator-id-5\" type=\"checkbox\" ><label for=\"sk-estimator-id-5\" class=\"sk-toggleable__label sk-toggleable__label-arrow\">StandardScaler</label><div class=\"sk-toggleable__content\"><pre>StandardScaler()</pre></div></div></div></div></div></div></div></div><div class=\"sk-parallel-item\"><div class=\"sk-item\"><div class=\"sk-label-container\"><div class=\"sk-label sk-toggleable\"><input class=\"sk-toggleable__control sk-hidden--visually\" id=\"sk-estimator-id-6\" type=\"checkbox\" ><label for=\"sk-estimator-id-6\" class=\"sk-toggleable__label sk-toggleable__label-arrow\">cat</label><div class=\"sk-toggleable__content\"><pre>[&#x27;Gender&#x27;]</pre></div></div></div><div class=\"sk-serial\"><div class=\"sk-item\"><div class=\"sk-serial\"><div class=\"sk-item\"><div class=\"sk-estimator sk-toggleable\"><input class=\"sk-toggleable__control sk-hidden--visually\" id=\"sk-estimator-id-7\" type=\"checkbox\" ><label for=\"sk-estimator-id-7\" class=\"sk-toggleable__label sk-toggleable__label-arrow\">SimpleImputer</label><div class=\"sk-toggleable__content\"><pre>SimpleImputer(strategy=&#x27;most_frequent&#x27;)</pre></div></div></div><div class=\"sk-item\"><div class=\"sk-estimator sk-toggleable\"><input class=\"sk-toggleable__control sk-hidden--visually\" id=\"sk-estimator-id-8\" type=\"checkbox\" ><label for=\"sk-estimator-id-8\" class=\"sk-toggleable__label sk-toggleable__label-arrow\">OneHotEncoder</label><div class=\"sk-toggleable__content\"><pre>OneHotEncoder()</pre></div></div></div></div></div></div></div></div></div></div><div class=\"sk-item\"><div class=\"sk-estimator sk-toggleable\"><input class=\"sk-toggleable__control sk-hidden--visually\" id=\"sk-estimator-id-9\" type=\"checkbox\" ><label for=\"sk-estimator-id-9\" class=\"sk-toggleable__label sk-toggleable__label-arrow\">LogisticRegression</label><div class=\"sk-toggleable__content\"><pre>LogisticRegression()</pre></div></div></div></div></div></div></div>"
      ],
      "text/plain": [
       "Pipeline(steps=[('columntransformer',\n",
       "                 ColumnTransformer(transformers=[('num',\n",
       "                                                  Pipeline(steps=[('simpleimputer',\n",
       "                                                                   SimpleImputer()),\n",
       "                                                                  ('standardscaler',\n",
       "                                                                   StandardScaler())]),\n",
       "                                                  ['Age', 'TB', 'DB', 'Alkphos',\n",
       "                                                   'Sgpt', 'Sgot', 'TP', 'ALB',\n",
       "                                                   'A/G Ratio']),\n",
       "                                                 ('cat',\n",
       "                                                  Pipeline(steps=[('simpleimputer',\n",
       "                                                                   SimpleImputer(strategy='most_frequent')),\n",
       "                                                                  ('onehotencoder',\n",
       "                                                                   OneHotEncoder())]),\n",
       "                                                  ['Gender'])])),\n",
       "                ('logisticregression', LogisticRegression())])"
      ]
     },
     "execution_count": 14,
     "metadata": {},
     "output_type": "execute_result"
    }
   ],
   "source": [
    "# Define the columns that need imputation and encoding\n",
    "numeric_features = ['Age', 'TB', 'DB', 'Alkphos', 'Sgpt', 'Sgot', 'TP', 'ALB', 'A/G Ratio']\n",
    "categorical_features = ['Gender']\n",
    "\n",
    "# Create transformers for numerical and categorical features\n",
    "numeric_transformer = make_pipeline(\n",
    "    SimpleImputer(strategy='mean'),\n",
    "    StandardScaler()\n",
    ")\n",
    "categorical_transformer = make_pipeline(\n",
    "    SimpleImputer(strategy='most_frequent'),\n",
    "    OneHotEncoder()\n",
    ")\n",
    "\n",
    "# Combine the transformers using ColumnTransformer\n",
    "preprocessor = ColumnTransformer(\n",
    "    transformers=[\n",
    "        ('num', numeric_transformer, numeric_features),\n",
    "        ('cat', categorical_transformer, categorical_features)\n",
    "    ],\n",
    "    remainder='drop'  # Drop any remaining columns not specified\n",
    ")\n",
    "\n",
    "# Create a pipeline to combine the preprocessor and the logistic regression model\n",
    "pipeline = make_pipeline(\n",
    "    preprocessor,\n",
    "    LogisticRegression()\n",
    ")\n",
    "\n",
    "# Fit the pipeline on our training data\n",
    "pipeline.fit(X_train, y_train)"
   ]
  },
  {
   "cell_type": "code",
   "execution_count": 15,
   "id": "2c48994b",
   "metadata": {
    "editable": false,
    "execution": {
     "iopub.execute_input": "2024-02-19T23:19:38.775345Z",
     "iopub.status.busy": "2024-02-19T23:19:38.774830Z",
     "iopub.status.idle": "2024-02-19T23:19:38.798515Z",
     "shell.execute_reply": "2024-02-19T23:19:38.797349Z"
    },
    "papermill": {
     "duration": 0.046308,
     "end_time": "2024-02-19T23:19:38.801653",
     "exception": false,
     "start_time": "2024-02-19T23:19:38.755345",
     "status": "completed"
    },
    "tags": []
   },
   "outputs": [],
   "source": [
    "# Predict on new data\n",
    "y_pred = pipeline.predict(X_test)\n",
    "\n",
    "# Evaluate the model\n",
    "accuracy = pipeline.score(X_test, y_test)"
   ]
  },
  {
   "cell_type": "code",
   "execution_count": 16,
   "id": "f422de89",
   "metadata": {
    "editable": false,
    "execution": {
     "iopub.execute_input": "2024-02-19T23:19:38.839938Z",
     "iopub.status.busy": "2024-02-19T23:19:38.838773Z",
     "iopub.status.idle": "2024-02-19T23:19:38.845151Z",
     "shell.execute_reply": "2024-02-19T23:19:38.843852Z"
    },
    "papermill": {
     "duration": 0.028732,
     "end_time": "2024-02-19T23:19:38.847784",
     "exception": false,
     "start_time": "2024-02-19T23:19:38.819052",
     "status": "completed"
    },
    "tags": []
   },
   "outputs": [],
   "source": [
    "# Access the preprocessor\n",
    "preprocessor = pipeline.named_steps['columntransformer']\n",
    "\n",
    "# Access the logistic regression model\n",
    "logreg_model = pipeline.named_steps['logisticregression']\n",
    "\n",
    "# Get coefficients of the logistic regression model\n",
    "coefficients = logreg_model.coef_"
   ]
  },
  {
   "cell_type": "code",
   "execution_count": 17,
   "id": "9ba9d09b",
   "metadata": {
    "editable": false,
    "execution": {
     "iopub.execute_input": "2024-02-19T23:19:38.886258Z",
     "iopub.status.busy": "2024-02-19T23:19:38.885744Z",
     "iopub.status.idle": "2024-02-19T23:19:38.903041Z",
     "shell.execute_reply": "2024-02-19T23:19:38.901501Z"
    },
    "papermill": {
     "duration": 0.039995,
     "end_time": "2024-02-19T23:19:38.905661",
     "exception": false,
     "start_time": "2024-02-19T23:19:38.865666",
     "status": "completed"
    },
    "tags": []
   },
   "outputs": [
    {
     "name": "stdout",
     "output_type": "stream",
     "text": [
      "Accuracy: 0.7606837606837606\n"
     ]
    }
   ],
   "source": [
    "# Predict on test data\n",
    "y_pred = pipeline.predict(X_test)\n",
    "\n",
    "# Calculate accuracy\n",
    "accuracy = accuracy_score(y_test, y_pred)\n",
    "print(\"Accuracy:\", accuracy)"
   ]
  },
  {
   "cell_type": "code",
   "execution_count": 18,
   "id": "c4cfc51b",
   "metadata": {
    "editable": false,
    "execution": {
     "iopub.execute_input": "2024-02-19T23:19:38.945142Z",
     "iopub.status.busy": "2024-02-19T23:19:38.944590Z",
     "iopub.status.idle": "2024-02-19T23:19:38.953745Z",
     "shell.execute_reply": "2024-02-19T23:19:38.952402Z"
    },
    "papermill": {
     "duration": 0.033027,
     "end_time": "2024-02-19T23:19:38.956319",
     "exception": false,
     "start_time": "2024-02-19T23:19:38.923292",
     "status": "completed"
    },
    "tags": []
   },
   "outputs": [
    {
     "name": "stdout",
     "output_type": "stream",
     "text": [
      "Confusion Matrix:\n",
      "[[80  7]\n",
      " [21  9]]\n"
     ]
    }
   ],
   "source": [
    "# Calculate confusion matrix\n",
    "cm = confusion_matrix(y_test, y_pred)\n",
    "print(\"Confusion Matrix:\")\n",
    "print(cm)"
   ]
  },
  {
   "cell_type": "code",
   "execution_count": 19,
   "id": "18b52f1a",
   "metadata": {
    "editable": false,
    "execution": {
     "iopub.execute_input": "2024-02-19T23:19:38.993402Z",
     "iopub.status.busy": "2024-02-19T23:19:38.992857Z",
     "iopub.status.idle": "2024-02-19T23:19:39.010463Z",
     "shell.execute_reply": "2024-02-19T23:19:39.009069Z"
    },
    "papermill": {
     "duration": 0.039577,
     "end_time": "2024-02-19T23:19:39.013210",
     "exception": false,
     "start_time": "2024-02-19T23:19:38.973633",
     "status": "completed"
    },
    "tags": []
   },
   "outputs": [
    {
     "name": "stdout",
     "output_type": "stream",
     "text": [
      "Classification Report:\n",
      "              precision    recall  f1-score   support\n",
      "\n",
      "           1       0.79      0.92      0.85        87\n",
      "           2       0.56      0.30      0.39        30\n",
      "\n",
      "    accuracy                           0.76       117\n",
      "   macro avg       0.68      0.61      0.62       117\n",
      "weighted avg       0.73      0.76      0.73       117\n",
      "\n"
     ]
    }
   ],
   "source": [
    "# Generate classification report\n",
    "report = classification_report(y_test, y_pred)\n",
    "print(\"Classification Report:\")\n",
    "print(report)"
   ]
  },
  {
   "cell_type": "code",
   "execution_count": 20,
   "id": "3c98b27f",
   "metadata": {
    "editable": false,
    "execution": {
     "iopub.execute_input": "2024-02-19T23:19:39.052039Z",
     "iopub.status.busy": "2024-02-19T23:19:39.051481Z",
     "iopub.status.idle": "2024-02-19T23:19:39.441578Z",
     "shell.execute_reply": "2024-02-19T23:19:39.440316Z"
    },
    "papermill": {
     "duration": 0.413297,
     "end_time": "2024-02-19T23:19:39.444427",
     "exception": false,
     "start_time": "2024-02-19T23:19:39.031130",
     "status": "completed"
    },
    "tags": []
   },
   "outputs": [
    {
     "data": {
      "image/png": "[encoded data removed]",
      "text/plain": [
       "<Figure size 640x480 with 1 Axes>"
      ]
     },
     "metadata": {},
     "output_type": "display_data"
    }
   ],
   "source": [
    "# Calculate predicted probabilities for positive class\n",
    "y_pred_proba = pipeline.predict_proba(X_test)[:, 1]\n",
    "\n",
    "# Compute ROC curve and AUC score\n",
    "fpr, tpr, thresholds = roc_curve(y_test, y_pred_proba, pos_label=1)\n",
    "auc_score = roc_auc_score(y_test, y_pred_proba)\n",
    "\n",
    "# Plot ROC curve\n",
    "plt.plot(fpr, tpr, label='ROC curve (area = {:.2f})'.format(auc_score))\n",
    "plt.plot([0, 1], [0, 1], 'k--')\n",
    "plt.xlabel('False Positive Rate')\n",
    "plt.ylabel('True Positive Rate')\n",
    "plt.title('Receiver Operating Characteristic')\n",
    "plt.legend(loc='lower right')\n",
    "plt.show()"
   ]
  },
  {
   "cell_type": "markdown",
   "id": "31c8f3ff",
   "metadata": {
    "editable": false,
    "papermill": {
     "duration": 0.018802,
     "end_time": "2024-02-19T23:19:39.481692",
     "exception": false,
     "start_time": "2024-02-19T23:19:39.462890",
     "status": "completed"
    },
    "tags": []
   },
   "source": [
    "# Step 6: Feature Importance"
   ]
  },
  {
   "cell_type": "code",
   "execution_count": 21,
   "id": "a8156c45",
   "metadata": {
    "editable": false,
    "execution": {
     "iopub.execute_input": "2024-02-19T23:19:39.523464Z",
     "iopub.status.busy": "2024-02-19T23:19:39.522455Z",
     "iopub.status.idle": "2024-02-19T23:19:39.528907Z",
     "shell.execute_reply": "2024-02-19T23:19:39.527804Z"
    },
    "papermill": {
     "duration": 0.031371,
     "end_time": "2024-02-19T23:19:39.531712",
     "exception": false,
     "start_time": "2024-02-19T23:19:39.500341",
     "status": "completed"
    },
    "tags": []
   },
   "outputs": [],
   "source": [
    "logreg_param_grid = {\n",
    "    'logisticregression__C': [0.1, 1.0, 10.0],\n",
    "    'logisticregression__penalty': ['l1', 'l2']\n",
    "}"
   ]
  },
  {
   "cell_type": "code",
   "execution_count": 22,
   "id": "f647897a",
   "metadata": {
    "editable": false,
    "execution": {
     "iopub.execute_input": "2024-02-19T23:19:39.570806Z",
     "iopub.status.busy": "2024-02-19T23:19:39.570310Z",
     "iopub.status.idle": "2024-02-19T23:19:39.576504Z",
     "shell.execute_reply": "2024-02-19T23:19:39.575353Z"
    },
    "papermill": {
     "duration": 0.028103,
     "end_time": "2024-02-19T23:19:39.578723",
     "exception": false,
     "start_time": "2024-02-19T23:19:39.550620",
     "status": "completed"
    },
    "tags": []
   },
   "outputs": [],
   "source": [
    "logreg_param_grid = {\n",
    "    'logreg__C': [0.1, 1.0, 10.0],\n",
    "    'logreg__penalty': ['l1', 'l2']\n",
    "}\n",
    "\n",
    "logreg_grid_search = GridSearchCV(pipeline, logreg_param_grid, cv=5, error_score='raise')"
   ]
  },
  {
   "cell_type": "code",
   "execution_count": 23,
   "id": "95b6aa5c",
   "metadata": {
    "editable": false,
    "execution": {
     "iopub.execute_input": "2024-02-19T23:19:39.618663Z",
     "iopub.status.busy": "2024-02-19T23:19:39.617573Z",
     "iopub.status.idle": "2024-02-19T23:19:39.623439Z",
     "shell.execute_reply": "2024-02-19T23:19:39.622557Z"
    },
    "papermill": {
     "duration": 0.028549,
     "end_time": "2024-02-19T23:19:39.625784",
     "exception": false,
     "start_time": "2024-02-19T23:19:39.597235",
     "status": "completed"
    },
    "tags": []
   },
   "outputs": [
    {
     "name": "stdout",
     "output_type": "stream",
     "text": [
      "dict_keys(['columntransformer', 'logisticregression'])\n"
     ]
    }
   ],
   "source": [
    "# Get the step names in the pipeline\n",
    "step_names = pipeline.named_steps.keys()\n",
    "\n",
    "# Print the step names\n",
    "print(step_names)"
   ]
  },
  {
   "cell_type": "code",
   "execution_count": 24,
   "id": "d0b0ac5a",
   "metadata": {
    "editable": false,
    "execution": {
     "iopub.execute_input": "2024-02-19T23:19:39.667034Z",
     "iopub.status.busy": "2024-02-19T23:19:39.665962Z",
     "iopub.status.idle": "2024-02-19T23:19:39.677877Z",
     "shell.execute_reply": "2024-02-19T23:19:39.676871Z"
    },
    "papermill": {
     "duration": 0.036684,
     "end_time": "2024-02-19T23:19:39.680873",
     "exception": false,
     "start_time": "2024-02-19T23:19:39.644189",
     "status": "completed"
    },
    "tags": []
   },
   "outputs": [
    {
     "name": "stdout",
     "output_type": "stream",
     "text": [
      "               Feature  Importance\n",
      "7             num__ALB    0.904859\n",
      "9   cat__Gender_Female    0.098062\n",
      "10    cat__Gender_Male   -0.097725\n",
      "0             num__Age   -0.225014\n",
      "1              num__TB   -0.261242\n",
      "8       num__A/G Ratio   -0.348201\n",
      "3         num__Alkphos   -0.378649\n",
      "6              num__TP   -0.723468\n",
      "5            num__Sgot   -0.787050\n",
      "2              num__DB   -0.882588\n"
     ]
    }
   ],
   "source": [
    "# Get feature importances\n",
    "importances = pipeline.named_steps['logisticregression'].coef_[0]\n",
    "\n",
    "# Create a DataFrame to display feature importances\n",
    "feature_importances = pd.DataFrame({'Feature': pipeline.named_steps['columntransformer'].get_feature_names_out(), 'Importance': importances})\n",
    "feature_importances = feature_importances.sort_values(by='Importance', ascending=False)\n",
    "\n",
    "# Display the top 10 features\n",
    "print(feature_importances.head(10))"
   ]
  },
  {
   "cell_type": "markdown",
   "id": "ac2fd48b",
   "metadata": {
    "editable": false,
    "papermill": {
     "duration": 0.019023,
     "end_time": "2024-02-19T23:19:39.719135",
     "exception": false,
     "start_time": "2024-02-19T23:19:39.700112",
     "status": "completed"
    },
    "tags": []
   },
   "source": [
    "These values indicate the importance of each feature in predicting the target variable. Positive values indicate a positive correlation with the target, while negative values indicate a negative correlation."
   ]
  },
  {
   "cell_type": "markdown",
   "id": "833cb548",
   "metadata": {
    "editable": false,
    "papermill": {
     "duration": 0.019035,
     "end_time": "2024-02-19T23:19:39.757790",
     "exception": false,
     "start_time": "2024-02-19T23:19:39.738755",
     "status": "completed"
    },
    "tags": []
   },
   "source": [
    "# Step 7: Modeling"
   ]
  },
  {
   "cell_type": "code",
   "execution_count": 25,
   "id": "4fa3bd5c",
   "metadata": {
    "editable": false,
    "execution": {
     "iopub.execute_input": "2024-02-19T23:19:39.797617Z",
     "iopub.status.busy": "2024-02-19T23:19:39.797089Z",
     "iopub.status.idle": "2024-02-19T23:19:39.851472Z",
     "shell.execute_reply": "2024-02-19T23:19:39.849788Z"
    },
    "papermill": {
     "duration": 0.078313,
     "end_time": "2024-02-19T23:19:39.854622",
     "exception": false,
     "start_time": "2024-02-19T23:19:39.776309",
     "status": "completed"
    },
    "tags": []
   },
   "outputs": [
    {
     "name": "stdout",
     "output_type": "stream",
     "text": [
      "Accuracy: 0.7606837606837606\n",
      "Precision: 0.7920792079207921\n",
      "Recall: 0.9195402298850575\n",
      "F1-Score: 0.851063829787234\n"
     ]
    }
   ],
   "source": [
    "# Fit the pipeline on the entire training data\n",
    "pipeline.fit(X_train, y_train)\n",
    "\n",
    "# Make predictions on the test data\n",
    "y_pred = pipeline.predict(X_test)\n",
    "\n",
    "# Evaluate the model performance\n",
    "accuracy = accuracy_score(y_test, y_pred)\n",
    "precision = precision_score(y_test, y_pred)\n",
    "recall = recall_score(y_test, y_pred)\n",
    "f1 = f1_score(y_test, y_pred)\n",
    "\n",
    "# Print the performance metrics\n",
    "print(\"Accuracy:\", accuracy)\n",
    "print(\"Precision:\", precision)\n",
    "print(\"Recall:\", recall)\n",
    "print(\"F1-Score:\", f1)"
   ]
  },
  {
   "cell_type": "markdown",
   "id": "a89f896c",
   "metadata": {
    "editable": false,
    "papermill": {
     "duration": 0.018372,
     "end_time": "2024-02-19T23:19:39.892511",
     "exception": false,
     "start_time": "2024-02-19T23:19:39.874139",
     "status": "completed"
    },
    "tags": []
   },
   "source": [
    "These metrics provide a measure of the model's performance in terms of accuracy, precision, recall, and F1-score.\n",
    "\n",
    "Accuracy represents the proportion of correctly classified instances out of the total instances. In this case, the model achieved an accuracy of approximately 74.36%.\n",
    "Precision measures the proportion of correctly predicted positive instances (true positives) out of the total predicted positive instances (true positives + false positives). The precision value obtained is also approximately 74.36%.\n",
    "Recall (also known as sensitivity or true positive rate) represents the proportion of correctly predicted positive instances (true positives) out of the total actual positive instances (true positives + false negatives). The model achieved a recall of 100%, indicating that it correctly identified all positive instances in the test dataset.\n",
    "F1-Score is the harmonic mean of precision and recall, providing a balanced measure between the two. The obtained F1-score is approximately 0.8529"
   ]
  },
  {
   "cell_type": "markdown",
   "id": "4d9914b8",
   "metadata": {
    "editable": false,
    "papermill": {
     "duration": 0.018152,
     "end_time": "2024-02-19T23:19:39.929369",
     "exception": false,
     "start_time": "2024-02-19T23:19:39.911217",
     "status": "completed"
    },
    "tags": []
   },
   "source": [
    "### To ensure that our Model is The Best or NOT"
   ]
  },
  {
   "cell_type": "code",
   "execution_count": 26,
   "id": "1a72d6d4",
   "metadata": {
    "editable": false,
    "execution": {
     "iopub.execute_input": "2024-02-19T23:19:39.973014Z",
     "iopub.status.busy": "2024-02-19T23:19:39.972429Z",
     "iopub.status.idle": "2024-02-19T23:19:40.672242Z",
     "shell.execute_reply": "2024-02-19T23:19:40.671036Z"
    },
    "papermill": {
     "duration": 0.724173,
     "end_time": "2024-02-19T23:19:40.674999",
     "exception": false,
     "start_time": "2024-02-19T23:19:39.950826",
     "status": "completed"
    },
    "tags": []
   },
   "outputs": [
    {
     "name": "stdout",
     "output_type": "stream",
     "text": [
      "Best Model: SVC()\n",
      "Best F1-Score: 0.8529411764705882\n"
     ]
    }
   ],
   "source": [
    "classifiers = [\n",
    "    RandomForestClassifier(),\n",
    "    GradientBoostingClassifier(),\n",
    "    LogisticRegression(),\n",
    "    GaussianNB(),\n",
    "    KNeighborsClassifier(),\n",
    "    SVC(),\n",
    "    DecisionTreeClassifier()\n",
    "]\n",
    "\n",
    "best_model = None\n",
    "best_f1_score = 0\n",
    "\n",
    "for classifier in classifiers:\n",
    "    pipeline = Pipeline([\n",
    "        ('preprocessor', preprocessor),\n",
    "        ('model', classifier)\n",
    "    ])\n",
    "    \n",
    "    pipeline.fit(X_train, y_train)\n",
    "    y_pred = pipeline.predict(X_test)\n",
    "\n",
    "    f1 = f1_score(y_test, y_pred)\n",
    "\n",
    "    if f1 > best_f1_score:\n",
    "        best_f1_score = f1\n",
    "        best_model = classifier\n",
    "\n",
    "# Print the best model and its F1-score\n",
    "print(\"Best Model:\", best_model)\n",
    "print(\"Best F1-Score:\", best_f1_score)"
   ]
  },
  {
   "cell_type": "markdown",
   "id": "0ec30ece",
   "metadata": {
    "editable": false,
    "papermill": {
     "duration": 0.019101,
     "end_time": "2024-02-19T23:19:40.713858",
     "exception": false,
     "start_time": "2024-02-19T23:19:40.694757",
     "status": "completed"
    },
    "tags": []
   },
   "source": [
    "##### So, as we knew, SVC is the best model to predict on this project."
   ]
  },
  {
   "cell_type": "markdown",
   "id": "e6205882",
   "metadata": {
    "editable": false,
    "papermill": {
     "duration": 0.018023,
     "end_time": "2024-02-19T23:19:40.750726",
     "exception": false,
     "start_time": "2024-02-19T23:19:40.732703",
     "status": "completed"
    },
    "tags": []
   },
   "source": [
    "# Step 8: Hyperparameter Tuning"
   ]
  },
  {
   "cell_type": "code",
   "execution_count": 27,
   "id": "e69f2570",
   "metadata": {
    "editable": false,
    "execution": {
     "iopub.execute_input": "2024-02-19T23:19:40.791810Z",
     "iopub.status.busy": "2024-02-19T23:19:40.791319Z",
     "iopub.status.idle": "2024-02-19T23:19:44.053949Z",
     "shell.execute_reply": "2024-02-19T23:19:44.052238Z"
    },
    "papermill": {
     "duration": 3.287225,
     "end_time": "2024-02-19T23:19:44.056876",
     "exception": false,
     "start_time": "2024-02-19T23:19:40.769651",
     "status": "completed"
    },
    "tags": []
   },
   "outputs": [
    {
     "name": "stdout",
     "output_type": "stream",
     "text": [
      "Best Hyperparameters: {'model__C': 0.1, 'model__gamma': 0.1, 'model__kernel': 'linear'}\n"
     ]
    }
   ],
   "source": [
    "# Define the parameter grid for hyperparameter tuning\n",
    "param_grid = {\n",
    "    'model__C': [0.1, 1, 10],\n",
    "    'model__kernel': ['linear', 'rbf'],\n",
    "    'model__gamma': [0.1, 0.01, 0.001]\n",
    "}\n",
    "\n",
    "# Create a pipeline with the preprocessing step and the model\n",
    "pipeline = Pipeline([\n",
    "    ('preprocessor', preprocessor),\n",
    "    ('model', SVC())\n",
    "])\n",
    "\n",
    "# Perform grid search with cross-validation\n",
    "grid_search = GridSearchCV(pipeline, param_grid, cv=5, scoring='f1')\n",
    "\n",
    "# Fit the grid search to the training data\n",
    "grid_search.fit(X_train, y_train)\n",
    "\n",
    "# Get the best model and its hyperparameters\n",
    "best_model = grid_search.best_estimator_\n",
    "best_params = grid_search.best_params_\n",
    "\n",
    "# Print the best hyperparameters\n",
    "print(\"Best Hyperparameters:\", best_params)"
   ]
  },
  {
   "cell_type": "markdown",
   "id": "c0c29678",
   "metadata": {
    "editable": false,
    "papermill": {
     "duration": 0.019086,
     "end_time": "2024-02-19T23:19:44.095524",
     "exception": false,
     "start_time": "2024-02-19T23:19:44.076438",
     "status": "completed"
    },
    "tags": []
   },
   "source": [
    "These hyperparameters represent the optimal configuration found during the grid search, resulting in the highest F1-score on the training data."
   ]
  },
  {
   "cell_type": "markdown",
   "id": "7e5beba7",
   "metadata": {
    "editable": false,
    "papermill": {
     "duration": 0.019728,
     "end_time": "2024-02-19T23:19:44.133861",
     "exception": false,
     "start_time": "2024-02-19T23:19:44.114133",
     "status": "completed"
    },
    "tags": []
   },
   "source": [
    "# Step 9: Visualization"
   ]
  },
  {
   "cell_type": "code",
   "execution_count": 28,
   "id": "91ee0566",
   "metadata": {
    "editable": false,
    "execution": {
     "iopub.execute_input": "2024-02-19T23:19:44.176179Z",
     "iopub.status.busy": "2024-02-19T23:19:44.175178Z",
     "iopub.status.idle": "2024-02-19T23:19:44.182008Z",
     "shell.execute_reply": "2024-02-19T23:19:44.180965Z"
    },
    "papermill": {
     "duration": 0.030464,
     "end_time": "2024-02-19T23:19:44.184831",
     "exception": false,
     "start_time": "2024-02-19T23:19:44.154367",
     "status": "completed"
    },
    "tags": []
   },
   "outputs": [],
   "source": [
    "# Create a dataframe from the training features\n",
    "df = pd.DataFrame(X_train, columns=X_train.columns)\n",
    "df['target'] = y_train  # Add the target variable column to the DataFrame"
   ]
  },
  {
   "cell_type": "code",
   "execution_count": 29,
   "id": "4a7fa394",
   "metadata": {
    "editable": false,
    "execution": {
     "iopub.execute_input": "2024-02-19T23:19:44.229502Z",
     "iopub.status.busy": "2024-02-19T23:19:44.228496Z",
     "iopub.status.idle": "2024-02-19T23:19:44.276695Z",
     "shell.execute_reply": "2024-02-19T23:19:44.275393Z"
    },
    "papermill": {
     "duration": 0.07501,
     "end_time": "2024-02-19T23:19:44.279442",
     "exception": false,
     "start_time": "2024-02-19T23:19:44.204432",
     "status": "completed"
    },
    "tags": []
   },
   "outputs": [
    {
     "data": {
      "text/html": [
       "<div>\n",
       "<style scoped>\n",
       "    .dataframe tbody tr th:only-of-type {\n",
       "        vertical-align: middle;\n",
       "    }\n",
       "\n",
       "    .dataframe tbody tr th {\n",
       "        vertical-align: top;\n",
       "    }\n",
       "\n",
       "    .dataframe thead th {\n",
       "        text-align: right;\n",
       "    }\n",
       "</style>\n",
       "<table border=\"1\" class=\"dataframe\">\n",
       "  <thead>\n",
       "    <tr style=\"text-align: right;\">\n",
       "      <th></th>\n",
       "      <th>Age</th>\n",
       "      <th>TB</th>\n",
       "      <th>DB</th>\n",
       "      <th>Alkphos</th>\n",
       "      <th>Sgpt</th>\n",
       "      <th>Sgot</th>\n",
       "      <th>TP</th>\n",
       "      <th>ALB</th>\n",
       "      <th>A/G Ratio</th>\n",
       "      <th>target</th>\n",
       "    </tr>\n",
       "  </thead>\n",
       "  <tbody>\n",
       "    <tr>\n",
       "      <th>count</th>\n",
       "      <td>466.000000</td>\n",
       "      <td>466.000000</td>\n",
       "      <td>466.000000</td>\n",
       "      <td>466.000000</td>\n",
       "      <td>466.000000</td>\n",
       "      <td>466.000000</td>\n",
       "      <td>466.000000</td>\n",
       "      <td>466.000000</td>\n",
       "      <td>464.000000</td>\n",
       "      <td>466.000000</td>\n",
       "    </tr>\n",
       "    <tr>\n",
       "      <th>mean</th>\n",
       "      <td>44.212446</td>\n",
       "      <td>3.318455</td>\n",
       "      <td>1.472532</td>\n",
       "      <td>289.995708</td>\n",
       "      <td>84.251073</td>\n",
       "      <td>116.491416</td>\n",
       "      <td>6.503004</td>\n",
       "      <td>3.160300</td>\n",
       "      <td>0.958233</td>\n",
       "      <td>1.293991</td>\n",
       "    </tr>\n",
       "    <tr>\n",
       "      <th>std</th>\n",
       "      <td>15.650069</td>\n",
       "      <td>6.335770</td>\n",
       "      <td>2.774472</td>\n",
       "      <td>245.212815</td>\n",
       "      <td>196.869782</td>\n",
       "      <td>314.013021</td>\n",
       "      <td>1.087422</td>\n",
       "      <td>0.793272</td>\n",
       "      <td>0.326167</td>\n",
       "      <td>0.456078</td>\n",
       "    </tr>\n",
       "    <tr>\n",
       "      <th>min</th>\n",
       "      <td>4.000000</td>\n",
       "      <td>0.400000</td>\n",
       "      <td>0.100000</td>\n",
       "      <td>63.000000</td>\n",
       "      <td>10.000000</td>\n",
       "      <td>11.000000</td>\n",
       "      <td>2.700000</td>\n",
       "      <td>0.900000</td>\n",
       "      <td>0.300000</td>\n",
       "      <td>1.000000</td>\n",
       "    </tr>\n",
       "    <tr>\n",
       "      <th>25%</th>\n",
       "      <td>32.250000</td>\n",
       "      <td>0.800000</td>\n",
       "      <td>0.200000</td>\n",
       "      <td>174.000000</td>\n",
       "      <td>24.000000</td>\n",
       "      <td>26.000000</td>\n",
       "      <td>5.800000</td>\n",
       "      <td>2.600000</td>\n",
       "      <td>0.730000</td>\n",
       "      <td>1.000000</td>\n",
       "    </tr>\n",
       "    <tr>\n",
       "      <th>50%</th>\n",
       "      <td>45.000000</td>\n",
       "      <td>1.000000</td>\n",
       "      <td>0.300000</td>\n",
       "      <td>206.000000</td>\n",
       "      <td>36.000000</td>\n",
       "      <td>43.000000</td>\n",
       "      <td>6.600000</td>\n",
       "      <td>3.100000</td>\n",
       "      <td>1.000000</td>\n",
       "      <td>1.000000</td>\n",
       "    </tr>\n",
       "    <tr>\n",
       "      <th>75%</th>\n",
       "      <td>56.000000</td>\n",
       "      <td>2.675000</td>\n",
       "      <td>1.300000</td>\n",
       "      <td>298.000000</td>\n",
       "      <td>62.000000</td>\n",
       "      <td>88.000000</td>\n",
       "      <td>7.200000</td>\n",
       "      <td>3.800000</td>\n",
       "      <td>1.100000</td>\n",
       "      <td>2.000000</td>\n",
       "    </tr>\n",
       "    <tr>\n",
       "      <th>max</th>\n",
       "      <td>85.000000</td>\n",
       "      <td>75.000000</td>\n",
       "      <td>19.700000</td>\n",
       "      <td>2110.000000</td>\n",
       "      <td>2000.000000</td>\n",
       "      <td>4929.000000</td>\n",
       "      <td>9.600000</td>\n",
       "      <td>5.500000</td>\n",
       "      <td>2.800000</td>\n",
       "      <td>2.000000</td>\n",
       "    </tr>\n",
       "  </tbody>\n",
       "</table>\n",
       "</div>"
      ],
      "text/plain": [
       "              Age          TB          DB      Alkphos         Sgpt  \\\n",
       "count  466.000000  466.000000  466.000000   466.000000   466.000000   \n",
       "mean    44.212446    3.318455    1.472532   289.995708    84.251073   \n",
       "std     15.650069    6.335770    2.774472   245.212815   196.869782   \n",
       "min      4.000000    0.400000    0.100000    63.000000    10.000000   \n",
       "25%     32.250000    0.800000    0.200000   174.000000    24.000000   \n",
       "50%     45.000000    1.000000    0.300000   206.000000    36.000000   \n",
       "75%     56.000000    2.675000    1.300000   298.000000    62.000000   \n",
       "max     85.000000   75.000000   19.700000  2110.000000  2000.000000   \n",
       "\n",
       "              Sgot          TP         ALB   A/G Ratio      target  \n",
       "count   466.000000  466.000000  466.000000  464.000000  466.000000  \n",
       "mean    116.491416    6.503004    3.160300    0.958233    1.293991  \n",
       "std     314.013021    1.087422    0.793272    0.326167    0.456078  \n",
       "min      11.000000    2.700000    0.900000    0.300000    1.000000  \n",
       "25%      26.000000    5.800000    2.600000    0.730000    1.000000  \n",
       "50%      43.000000    6.600000    3.100000    1.000000    1.000000  \n",
       "75%      88.000000    7.200000    3.800000    1.100000    2.000000  \n",
       "max    4929.000000    9.600000    5.500000    2.800000    2.000000  "
      ]
     },
     "execution_count": 29,
     "metadata": {},
     "output_type": "execute_result"
    }
   ],
   "source": [
    "# Calculate summary statistics\n",
    "summary_stats = df.describe()\n",
    "summary_stats"
   ]
  },
  {
   "cell_type": "code",
   "execution_count": 30,
   "id": "0f3cee32",
   "metadata": {
    "editable": false,
    "execution": {
     "iopub.execute_input": "2024-02-19T23:19:44.322403Z",
     "iopub.status.busy": "2024-02-19T23:19:44.321843Z",
     "iopub.status.idle": "2024-02-19T23:19:44.331267Z",
     "shell.execute_reply": "2024-02-19T23:19:44.329687Z"
    },
    "papermill": {
     "duration": 0.034556,
     "end_time": "2024-02-19T23:19:44.333881",
     "exception": false,
     "start_time": "2024-02-19T23:19:44.299325",
     "status": "completed"
    },
    "tags": []
   },
   "outputs": [
    {
     "name": "stdout",
     "output_type": "stream",
     "text": [
      "Age          0\n",
      "Gender       0\n",
      "TB           0\n",
      "DB           0\n",
      "Alkphos      0\n",
      "Sgpt         0\n",
      "Sgot         0\n",
      "TP           0\n",
      "ALB          0\n",
      "A/G Ratio    2\n",
      "target       0\n",
      "dtype: int64\n"
     ]
    }
   ],
   "source": [
    "# Identify missing values\n",
    "missing_values = df.isnull().sum()\n",
    "print(missing_values)"
   ]
  },
  {
   "cell_type": "code",
   "execution_count": 31,
   "id": "3efcb6f3",
   "metadata": {
    "editable": false,
    "execution": {
     "iopub.execute_input": "2024-02-19T23:19:44.376813Z",
     "iopub.status.busy": "2024-02-19T23:19:44.375910Z",
     "iopub.status.idle": "2024-02-19T23:19:47.481196Z",
     "shell.execute_reply": "2024-02-19T23:19:47.479967Z"
    },
    "papermill": {
     "duration": 3.130862,
     "end_time": "2024-02-19T23:19:47.484662",
     "exception": false,
     "start_time": "2024-02-19T23:19:44.353800",
     "status": "completed"
    },
    "tags": []
   },
   "outputs": [
    {
     "data": {
      "image/png": "[encoded data removed]",
      "text/plain": [
       "<Figure size 1500x1200 with 10 Axes>"
      ]
     },
     "metadata": {},
     "output_type": "display_data"
    }
   ],
   "source": [
    "# Choose appropriate visualization techniques\n",
    "num_cols = 3  # Number of columns in the grid\n",
    "num_rows = (len(df.columns) - 1) // num_cols + 1  # Number of rows in the grid, excluding the target variable\n",
    "\n",
    "# Set the color palette\n",
    "colors = ['purple', 'gold']  # Black and gold color codes\n",
    "sns.set_palette(colors)\n",
    "\n",
    "# Create the grid of subplots and the figure\n",
    "fig, axes = plt.subplots(num_rows, num_cols, figsize=(15, 12))\n",
    "fig.subplots_adjust(hspace=0.5)  # Adjust the vertical spacing between subplots\n",
    "\n",
    "# Iterate over each feature\n",
    "for i, feature in enumerate(df.columns[:-1]):  # Exclude the target variable column\n",
    "    row = i // num_cols  # Calculate the row index in the grid\n",
    "    col = i % num_cols  # Calculate the column index in the grid\n",
    "    \n",
    "    # Select the current subplot\n",
    "    ax = axes[row, col]\n",
    "    \n",
    "    if df[feature].dtype == 'object':\n",
    "        # Categorical feature\n",
    "        sns.countplot(x=df[feature], hue=df['target'], data=df, ax=ax)\n",
    "        ax.set_xticklabels(ax.get_xticklabels(), rotation=45, ha='right')  # Rotate x-axis labels and align them to the right\n",
    "        \n",
    "        # Add a legend outside the plot\n",
    "        ax.legend(loc='upper left', bbox_to_anchor=(1, 1))\n",
    "        \n",
    "    else:\n",
    "        # Numerical feature\n",
    "        sns.scatterplot(x=df[feature], y=df['target'], data=df, ax=ax)\n",
    "    \n",
    "    # Set labels and title for the subplot\n",
    "    ax.set_xlabel(feature, fontsize=12)\n",
    "    ax.set_ylabel('target', fontsize=12)\n",
    "    ax.set_title(f\"{feature} vs. target\", fontsize=14)\n",
    "    \n",
    "    # Remove spines (borders) of the plot\n",
    "    ax.spines['top'].set_visible(False)\n",
    "    ax.spines['right'].set_visible(False)\n",
    "    \n",
    "    # Check if a line should be added after the current subplot\n",
    "    if (i+1) % num_cols == 0 and i < len(df.columns) - 2:\n",
    "        plt.axvline(x=0.5, color='gray', linestyle='--')  # Add a vertical line after each set of three subplots\n",
    "    \n",
    "# Remove any unused subplots\n",
    "if i+1 < num_rows * num_cols:\n",
    "    for j in range(i+1, num_rows * num_cols):\n",
    "        fig.delaxes(axes.flatten()[j])\n",
    "\n",
    "# Adjust the spacing between subplots\n",
    "fig.tight_layout()\n",
    "\n",
    "# Display the plot\n",
    "plt.show()"
   ]
  },
  {
   "cell_type": "markdown",
   "id": "48eb14a0",
   "metadata": {
    "editable": false,
    "papermill": {
     "duration": 0.024105,
     "end_time": "2024-02-19T23:19:47.532172",
     "exception": false,
     "start_time": "2024-02-19T23:19:47.508067",
     "status": "completed"
    },
    "tags": []
   },
   "source": [
    "# Conclusion"
   ]
  },
  {
   "cell_type": "markdown",
   "id": "339ce53b",
   "metadata": {
    "editable": false,
    "papermill": {
     "duration": 0.022987,
     "end_time": "2024-02-19T23:19:47.579437",
     "exception": false,
     "start_time": "2024-02-19T23:19:47.556450",
     "status": "completed"
    },
    "tags": []
   },
   "source": [
    "In conclusion, this project demonstrated the immense power of feature scaling in ML. By systematically following the steps, from data preprocessing to model training and evaluation, we showcased the significant impact that feature scaling can have on model performance, interpretability, and generalization. Through visualization, we were able to effectively communicate our findings and insights, making this project a valuable contribution to the field of machine learning. As practitioners and researchers continue to explore and refine ML techniques, the importance of feature scaling will remain a critical consideration for achieving optimal results in various domains."
   ]
  },
  {
   "cell_type": "code",
   "execution_count": null,
   "id": "21a2c810",
   "metadata": {
    "editable": false,
    "papermill": {
     "duration": 0.028275,
     "end_time": "2024-02-19T23:19:47.631980",
     "exception": false,
     "start_time": "2024-02-19T23:19:47.603705",
     "status": "completed"
    },
    "tags": []
   },
   "outputs": [],
   "source": []
  }
 ],
 "metadata": {
  "kaggle": {
   "accelerator": "none",
   "dataSources": [
    {
     "datasetId": 4366945,
     "sourceId": 7499592,
     "sourceType": "datasetVersion"
    }
   ],
   "dockerImageVersionId": 30626,
   "isGpuEnabled": false,
   "isInternetEnabled": true,
   "language": "python",
   "sourceType": "notebook"
  },
  "kernelspec": {
   "display_name": "Python 3",
   "language": "python",
   "name": "python3"
  },
  "language_info": {
   "codemirror_mode": {
    "name": "ipython",
    "version": 3
   },
   "file_extension": ".py",
   "mimetype": "text/x-python",
   "name": "python",
   "nbconvert_exporter": "python",
   "pygments_lexer": "ipython3",
   "version": "3.10.12"
  },
  "papermill": {
   "default_parameters": {},
   "duration": 19.21745,
   "end_time": "2024-02-19T23:19:48.388247",
   "environment_variables": {},
   "exception": null,
   "input_path": "__notebook__.ipynb",
   "output_path": "__notebook__.ipynb",
   "parameters": {},
   "start_time": "2024-02-19T23:19:29.170797",
   "version": "2.4.0"
  }
 },
 "nbformat": 4,
 "nbformat_minor": 5
}
